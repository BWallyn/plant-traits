{
 "cells": [
  {
   "cell_type": "markdown",
   "metadata": {},
   "source": [
    "# Exploratory Data Analysis"
   ]
  },
  {
   "cell_type": "markdown",
   "metadata": {},
   "source": [
    "# 1. Imports"
   ]
  },
  {
   "cell_type": "markdown",
   "metadata": {},
   "source": [
    "## 1.1 Packages"
   ]
  },
  {
   "cell_type": "code",
   "execution_count": 4,
   "metadata": {},
   "outputs": [],
   "source": [
    "import os\n",
    "\n",
    "import pandas as pd\n"
   ]
  },
  {
   "cell_type": "markdown",
   "metadata": {},
   "source": [
    "## 1.2 Options"
   ]
  },
  {
   "cell_type": "code",
   "execution_count": 5,
   "metadata": {},
   "outputs": [],
   "source": [
    "path_data = '../data/03_primary'"
   ]
  },
  {
   "cell_type": "markdown",
   "metadata": {},
   "source": [
    "## 1.3 Data"
   ]
  },
  {
   "cell_type": "code",
   "execution_count": 6,
   "metadata": {},
   "outputs": [],
   "source": [
    "df_train = pd.read_csv(os.path.join(path_data, 'train.csv'))"
   ]
  },
  {
   "cell_type": "markdown",
   "metadata": {},
   "source": [
    "# 2. Analyze"
   ]
  },
  {
   "cell_type": "code",
   "execution_count": 8,
   "metadata": {},
   "outputs": [
    {
     "data": {
      "text/html": [
       "<div>\n",
       "<style scoped>\n",
       "    .dataframe tbody tr th:only-of-type {\n",
       "        vertical-align: middle;\n",
       "    }\n",
       "\n",
       "    .dataframe tbody tr th {\n",
       "        vertical-align: top;\n",
       "    }\n",
       "\n",
       "    .dataframe thead th {\n",
       "        text-align: right;\n",
       "    }\n",
       "</style>\n",
       "<table border=\"1\" class=\"dataframe\">\n",
       "  <thead>\n",
       "    <tr style=\"text-align: right;\">\n",
       "      <th></th>\n",
       "      <th>id</th>\n",
       "      <th>WORLDCLIM_BIO1_annual_mean_temperature</th>\n",
       "      <th>WORLDCLIM_BIO12_annual_precipitation</th>\n",
       "      <th>WORLDCLIM_BIO13.BIO14_delta_precipitation_of_wettest_and_dryest_month</th>\n",
       "      <th>WORLDCLIM_BIO15_precipitation_seasonality</th>\n",
       "      <th>WORLDCLIM_BIO4_temperature_seasonality</th>\n",
       "      <th>WORLDCLIM_BIO7_temperature_annual_range</th>\n",
       "      <th>SOIL_bdod_0.5cm_mean_0.01_deg</th>\n",
       "      <th>SOIL_bdod_100.200cm_mean_0.01_deg</th>\n",
       "      <th>SOIL_bdod_15.30cm_mean_0.01_deg</th>\n",
       "      <th>...</th>\n",
       "      <th>X18_mean</th>\n",
       "      <th>X26_mean</th>\n",
       "      <th>X50_mean</th>\n",
       "      <th>X3112_mean</th>\n",
       "      <th>X4_sd</th>\n",
       "      <th>X11_sd</th>\n",
       "      <th>X18_sd</th>\n",
       "      <th>X26_sd</th>\n",
       "      <th>X50_sd</th>\n",
       "      <th>X3112_sd</th>\n",
       "    </tr>\n",
       "  </thead>\n",
       "  <tbody>\n",
       "    <tr>\n",
       "      <th>118</th>\n",
       "      <td>106117608</td>\n",
       "      <td>25.844238</td>\n",
       "      <td>3060.505127</td>\n",
       "      <td>383.326538</td>\n",
       "      <td>50.720558</td>\n",
       "      <td>40.879761</td>\n",
       "      <td>10.322960</td>\n",
       "      <td>100</td>\n",
       "      <td>124</td>\n",
       "      <td>110</td>\n",
       "      <td>...</td>\n",
       "      <td>15.977965</td>\n",
       "      <td>31.903881</td>\n",
       "      <td>1.576368</td>\n",
       "      <td>24518.421496</td>\n",
       "      <td>0.155025</td>\n",
       "      <td>0.874413</td>\n",
       "      <td>0.473036</td>\n",
       "      <td>2.425678</td>\n",
       "      <td>0.091434</td>\n",
       "      <td>1256.151515</td>\n",
       "    </tr>\n",
       "    <tr>\n",
       "      <th>5430</th>\n",
       "      <td>180324213</td>\n",
       "      <td>2.232837</td>\n",
       "      <td>885.014282</td>\n",
       "      <td>86.647621</td>\n",
       "      <td>42.860466</td>\n",
       "      <td>642.088684</td>\n",
       "      <td>24.111429</td>\n",
       "      <td>97</td>\n",
       "      <td>145</td>\n",
       "      <td>119</td>\n",
       "      <td>...</td>\n",
       "      <td>0.099267</td>\n",
       "      <td>0.832366</td>\n",
       "      <td>1.259975</td>\n",
       "      <td>459.455830</td>\n",
       "      <td>0.001151</td>\n",
       "      <td>0.289343</td>\n",
       "      <td>0.046607</td>\n",
       "      <td>0.158272</td>\n",
       "      <td>0.023153</td>\n",
       "      <td>69.097672</td>\n",
       "    </tr>\n",
       "  </tbody>\n",
       "</table>\n",
       "<p>2 rows × 176 columns</p>\n",
       "</div>"
      ],
      "text/plain": [
       "             id  WORLDCLIM_BIO1_annual_mean_temperature  \\\n",
       "118   106117608                               25.844238   \n",
       "5430  180324213                                2.232837   \n",
       "\n",
       "      WORLDCLIM_BIO12_annual_precipitation  \\\n",
       "118                            3060.505127   \n",
       "5430                            885.014282   \n",
       "\n",
       "      WORLDCLIM_BIO13.BIO14_delta_precipitation_of_wettest_and_dryest_month  \\\n",
       "118                                          383.326538                       \n",
       "5430                                          86.647621                       \n",
       "\n",
       "      WORLDCLIM_BIO15_precipitation_seasonality  \\\n",
       "118                                   50.720558   \n",
       "5430                                  42.860466   \n",
       "\n",
       "      WORLDCLIM_BIO4_temperature_seasonality  \\\n",
       "118                                40.879761   \n",
       "5430                              642.088684   \n",
       "\n",
       "      WORLDCLIM_BIO7_temperature_annual_range  SOIL_bdod_0.5cm_mean_0.01_deg  \\\n",
       "118                                 10.322960                            100   \n",
       "5430                                24.111429                             97   \n",
       "\n",
       "      SOIL_bdod_100.200cm_mean_0.01_deg  SOIL_bdod_15.30cm_mean_0.01_deg  ...  \\\n",
       "118                                 124                              110  ...   \n",
       "5430                                145                              119  ...   \n",
       "\n",
       "       X18_mean   X26_mean  X50_mean    X3112_mean     X4_sd    X11_sd  \\\n",
       "118   15.977965  31.903881  1.576368  24518.421496  0.155025  0.874413   \n",
       "5430   0.099267   0.832366  1.259975    459.455830  0.001151  0.289343   \n",
       "\n",
       "        X18_sd    X26_sd    X50_sd     X3112_sd  \n",
       "118   0.473036  2.425678  0.091434  1256.151515  \n",
       "5430  0.046607  0.158272  0.023153    69.097672  \n",
       "\n",
       "[2 rows x 176 columns]"
      ]
     },
     "execution_count": 8,
     "metadata": {},
     "output_type": "execute_result"
    }
   ],
   "source": [
    "df_train.sample(2)"
   ]
  },
  {
   "cell_type": "markdown",
   "metadata": {},
   "source": [
    "## 2.1 Prepare"
   ]
  },
  {
   "cell_type": "code",
   "execution_count": null,
   "metadata": {},
   "outputs": [],
   "source": [
    "df_train['file_path'] = df_train['id'].apply(lambda s: f'{path_data}/train_images/{s}.jpeg')"
   ]
  }
 ],
 "metadata": {
  "kernelspec": {
   "display_name": ".venv",
   "language": "python",
   "name": "python3"
  },
  "language_info": {
   "codemirror_mode": {
    "name": "ipython",
    "version": 3
   },
   "file_extension": ".py",
   "mimetype": "text/x-python",
   "name": "python",
   "nbconvert_exporter": "python",
   "pygments_lexer": "ipython3",
   "version": "3.11.8"
  }
 },
 "nbformat": 4,
 "nbformat_minor": 2
}
