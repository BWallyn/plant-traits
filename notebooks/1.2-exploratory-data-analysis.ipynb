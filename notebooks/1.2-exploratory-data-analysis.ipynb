{
 "cells": [
  {
   "cell_type": "markdown",
   "metadata": {},
   "source": [
    "# Exploratory Data Analysis"
   ]
  },
  {
   "cell_type": "markdown",
   "metadata": {},
   "source": [
    "# 1. Imports"
   ]
  },
  {
   "cell_type": "markdown",
   "metadata": {},
   "source": [
    "## 1.1 Packages"
   ]
  },
  {
   "cell_type": "code",
   "execution_count": 17,
   "metadata": {},
   "outputs": [],
   "source": [
    "import os\n",
    "\n",
    "import imageio.v3 as imageio\n",
    "import matplotlib.pyplot as plt\n",
    "import pandas as pd\n"
   ]
  },
  {
   "cell_type": "markdown",
   "metadata": {},
   "source": [
    "## 1.2 Options"
   ]
  },
  {
   "cell_type": "code",
   "execution_count": 18,
   "metadata": {},
   "outputs": [],
   "source": [
    "path_data = '../data/04_feature'"
   ]
  },
  {
   "cell_type": "markdown",
   "metadata": {},
   "source": [
    "## 1.3 Data"
   ]
  },
  {
   "cell_type": "code",
   "execution_count": 19,
   "metadata": {},
   "outputs": [],
   "source": [
    "df_train = pd.read_parquet(os.path.join(path_data, 'df_train.parquet'))"
   ]
  },
  {
   "cell_type": "markdown",
   "metadata": {},
   "source": [
    "# 2. Analyze"
   ]
  },
  {
   "cell_type": "code",
   "execution_count": 20,
   "metadata": {},
   "outputs": [
    {
     "data": {
      "text/html": [
       "<div>\n",
       "<style scoped>\n",
       "    .dataframe tbody tr th:only-of-type {\n",
       "        vertical-align: middle;\n",
       "    }\n",
       "\n",
       "    .dataframe tbody tr th {\n",
       "        vertical-align: top;\n",
       "    }\n",
       "\n",
       "    .dataframe thead th {\n",
       "        text-align: right;\n",
       "    }\n",
       "</style>\n",
       "<table border=\"1\" class=\"dataframe\">\n",
       "  <thead>\n",
       "    <tr style=\"text-align: right;\">\n",
       "      <th></th>\n",
       "      <th>id</th>\n",
       "      <th>WORLDCLIM_BIO1_annual_mean_temperature</th>\n",
       "      <th>WORLDCLIM_BIO12_annual_precipitation</th>\n",
       "      <th>WORLDCLIM_BIO13.BIO14_delta_precipitation_of_wettest_and_dryest_month</th>\n",
       "      <th>WORLDCLIM_BIO15_precipitation_seasonality</th>\n",
       "      <th>WORLDCLIM_BIO4_temperature_seasonality</th>\n",
       "      <th>WORLDCLIM_BIO7_temperature_annual_range</th>\n",
       "      <th>SOIL_bdod_0.5cm_mean_0.01_deg</th>\n",
       "      <th>SOIL_bdod_100.200cm_mean_0.01_deg</th>\n",
       "      <th>SOIL_bdod_15.30cm_mean_0.01_deg</th>\n",
       "      <th>...</th>\n",
       "      <th>X50_mean</th>\n",
       "      <th>X3112_mean</th>\n",
       "      <th>X4_sd</th>\n",
       "      <th>X11_sd</th>\n",
       "      <th>X18_sd</th>\n",
       "      <th>X26_sd</th>\n",
       "      <th>X50_sd</th>\n",
       "      <th>X3112_sd</th>\n",
       "      <th>file_path</th>\n",
       "      <th>jpeg_bytes</th>\n",
       "    </tr>\n",
       "  </thead>\n",
       "  <tbody>\n",
       "    <tr>\n",
       "      <th>11697</th>\n",
       "      <td>189020177</td>\n",
       "      <td>17.451340</td>\n",
       "      <td>856.535706</td>\n",
       "      <td>158.321426</td>\n",
       "      <td>82.033081</td>\n",
       "      <td>416.286438</td>\n",
       "      <td>23.803570</td>\n",
       "      <td>122</td>\n",
       "      <td>141</td>\n",
       "      <td>134</td>\n",
       "      <td>...</td>\n",
       "      <td>0.815204</td>\n",
       "      <td>15.982259</td>\n",
       "      <td>NaN</td>\n",
       "      <td>NaN</td>\n",
       "      <td>NaN</td>\n",
       "      <td>NaN</td>\n",
       "      <td>NaN</td>\n",
       "      <td>NaN</td>\n",
       "      <td>data/03_primary/train_images//189020177.jpeg</td>\n",
       "      <td>b'\\xff\\xd8\\xff\\xe0\\x00\\x10JFIF\\x00\\x01\\x01\\x00...</td>\n",
       "    </tr>\n",
       "    <tr>\n",
       "      <th>54282</th>\n",
       "      <td>149435566</td>\n",
       "      <td>17.669584</td>\n",
       "      <td>265.619049</td>\n",
       "      <td>19.000000</td>\n",
       "      <td>21.105572</td>\n",
       "      <td>532.456848</td>\n",
       "      <td>27.975714</td>\n",
       "      <td>114</td>\n",
       "      <td>146</td>\n",
       "      <td>133</td>\n",
       "      <td>...</td>\n",
       "      <td>2.248125</td>\n",
       "      <td>116.255378</td>\n",
       "      <td>0.00508</td>\n",
       "      <td>0.31146</td>\n",
       "      <td>0.070834</td>\n",
       "      <td>0.854955</td>\n",
       "      <td>0.072384</td>\n",
       "      <td>26.139757</td>\n",
       "      <td>data/03_primary/train_images//149435566.jpeg</td>\n",
       "      <td>b'\\xff\\xd8\\xff\\xe0\\x00\\x10JFIF\\x00\\x01\\x01\\x00...</td>\n",
       "    </tr>\n",
       "  </tbody>\n",
       "</table>\n",
       "<p>2 rows × 178 columns</p>\n",
       "</div>"
      ],
      "text/plain": [
       "              id  WORLDCLIM_BIO1_annual_mean_temperature  \\\n",
       "11697  189020177                               17.451340   \n",
       "54282  149435566                               17.669584   \n",
       "\n",
       "       WORLDCLIM_BIO12_annual_precipitation  \\\n",
       "11697                            856.535706   \n",
       "54282                            265.619049   \n",
       "\n",
       "       WORLDCLIM_BIO13.BIO14_delta_precipitation_of_wettest_and_dryest_month  \\\n",
       "11697                                         158.321426                       \n",
       "54282                                          19.000000                       \n",
       "\n",
       "       WORLDCLIM_BIO15_precipitation_seasonality  \\\n",
       "11697                                  82.033081   \n",
       "54282                                  21.105572   \n",
       "\n",
       "       WORLDCLIM_BIO4_temperature_seasonality  \\\n",
       "11697                              416.286438   \n",
       "54282                              532.456848   \n",
       "\n",
       "       WORLDCLIM_BIO7_temperature_annual_range  SOIL_bdod_0.5cm_mean_0.01_deg  \\\n",
       "11697                                23.803570                            122   \n",
       "54282                                27.975714                            114   \n",
       "\n",
       "       SOIL_bdod_100.200cm_mean_0.01_deg  SOIL_bdod_15.30cm_mean_0.01_deg  \\\n",
       "11697                                141                              134   \n",
       "54282                                146                              133   \n",
       "\n",
       "       ...  X50_mean  X3112_mean    X4_sd   X11_sd    X18_sd    X26_sd  \\\n",
       "11697  ...  0.815204   15.982259      NaN      NaN       NaN       NaN   \n",
       "54282  ...  2.248125  116.255378  0.00508  0.31146  0.070834  0.854955   \n",
       "\n",
       "         X50_sd   X3112_sd                                     file_path  \\\n",
       "11697       NaN        NaN  data/03_primary/train_images//189020177.jpeg   \n",
       "54282  0.072384  26.139757  data/03_primary/train_images//149435566.jpeg   \n",
       "\n",
       "                                              jpeg_bytes  \n",
       "11697  b'\\xff\\xd8\\xff\\xe0\\x00\\x10JFIF\\x00\\x01\\x01\\x00...  \n",
       "54282  b'\\xff\\xd8\\xff\\xe0\\x00\\x10JFIF\\x00\\x01\\x01\\x00...  \n",
       "\n",
       "[2 rows x 178 columns]"
      ]
     },
     "execution_count": 20,
     "metadata": {},
     "output_type": "execute_result"
    }
   ],
   "source": [
    "df_train.sample(2)"
   ]
  },
  {
   "cell_type": "markdown",
   "metadata": {},
   "source": [
    "## 2.1 Prepare"
   ]
  },
  {
   "cell_type": "code",
   "execution_count": 21,
   "metadata": {},
   "outputs": [],
   "source": [
    "def plot_example(df: pd.DataFrame, nrows: int=3, ncols: int=3) -> None:\n",
    "    \"\"\"Plot examples of images\n",
    "\n",
    "    Args:\n",
    "        df (pd.DataFrame): Input dataframe\n",
    "        nrows (int): Number of rows for the subplots\n",
    "        ncols (int): Number of columns for the subplots\n",
    "    \"\"\"\n",
    "    nimgs = nrows * ncols\n",
    "    df_to_plot = df.sample(n=nimgs, random_state=12)\n",
    "    fig, axes = plt.subplots(nrows, ncols, figsize=(ncols*5, nrows*5))\n",
    "    for i in range(nimgs):\n",
    "        r = i // ncols\n",
    "        c = i % ncols\n",
    "        img = imageio.imread(df_to_plot.iloc[i]['jpeg_bytes'])\n",
    "        image_id = df_to_plot.iloc[i]['id']\n",
    "        axes[r, c].imshow(img)\n",
    "        axes[r, c].set_title(f'{image_id} | shape: {img.shape}')\n",
    "    plt.show()\n",
    "\n",
    "# plot_example(df_train)"
   ]
  },
  {
   "cell_type": "code",
   "execution_count": null,
   "metadata": {},
   "outputs": [],
   "source": []
  }
 ],
 "metadata": {
  "kernelspec": {
   "display_name": ".venv",
   "language": "python",
   "name": "python3"
  },
  "language_info": {
   "codemirror_mode": {
    "name": "ipython",
    "version": 3
   },
   "file_extension": ".py",
   "mimetype": "text/x-python",
   "name": "python",
   "nbconvert_exporter": "python",
   "pygments_lexer": "ipython3",
   "version": "3.11.8"
  }
 },
 "nbformat": 4,
 "nbformat_minor": 2
}
